{
 "cells": [
  {
   "cell_type": "markdown",
   "id": "d8030399",
   "metadata": {},
   "source": [
    "# Data Sources for RAG in LLMs"
   ]
  },
  {
   "cell_type": "markdown",
   "id": "f002f363",
   "metadata": {},
   "source": [
    "## Data sources in traditional ML pipelines\n",
    "Traditional ML pipelines rely on static datasets that are precollected, cleaned, and processed prior to model training. \n",
    "Traditional data sources:\n",
    "- Relational databases\n",
    "- CSV/EXCEL files\n",
    "- APIs\n",
    "- Web scraping\n",
    "\n",
    "## Data sources for RAG:\n",
    "RAG represents a more dynamic approach to AI, where the system actively retrieves relevant information from external sources during the generation process.\n",
    "Data sources:\n",
    "- Knowledge bases\n",
    "- Document repos\n",
    "- APIs and real-time data feeds\n",
    "- Web search engines\n",
    "\n"
   ]
  },
  {
   "cell_type": "markdown",
   "id": "6cc1c44b",
   "metadata": {},
   "source": [
    "# Error identification in data collection\n",
    "Common types of data collection errors:\n",
    "- Sampling errors, data not representative of the population\n",
    "- Measurement errors\n",
    "- Data entry errors\n",
    "- Response bias, respondents provide inaccurate or dishonest answers\n",
    "- Non response errors\n",
    "- Systematic errors, consistent repeatable errors associated with faulty equipment or flawed method.\n",
    "\n",
    "Methods for identofying data collection error\n",
    "- Descriptive statistics: Large deviatons from expected values can indicate potential errors\n",
    "- Data visualization\n",
    "- Cross-validation: compare your data against other known or trusted data sources to validate its accuracy, against benchmarks\n",
    "- Data auditing\n",
    "- Use of control groups, for example two sensors measuring the same variable but producing significantly different readings.\n",
    "\n",
    "Strategies for mitigating data collection errors\n",
    "- Standardize data collection: Detailed data collection protocol on how data should be collected\n",
    "- Automate data collection\n",
    "- Implement real-time error detection\n",
    "\n"
   ]
  }
 ],
 "metadata": {
  "language_info": {
   "name": "python"
  }
 },
 "nbformat": 4,
 "nbformat_minor": 5
}
