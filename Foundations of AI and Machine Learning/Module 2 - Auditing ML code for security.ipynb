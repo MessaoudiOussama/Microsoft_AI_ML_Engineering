{
 "cells": [
  {
   "cell_type": "markdown",
   "id": "efd1f7f9",
   "metadata": {},
   "source": [
    "# Auditing ML code for security"
   ]
  },
  {
   "cell_type": "markdown",
   "id": "0825f507",
   "metadata": {},
   "source": [
    "## Code block with intentional flaws"
   ]
  },
  {
   "cell_type": "code",
   "execution_count": null,
   "id": "7be9abf2",
   "metadata": {},
   "outputs": [],
   "source": [
    "import pandas as pd\n",
    "from sklearn.model_selection import train_test_split\n",
    "from sklearn.linear_model import LogisticRegression\n",
    "import pickle\n",
    "# Load dataset (Flaw: No data validation or sanitization)\n",
    "data = pd.read_csv('data.csv')\n",
    "# Split dataset into features and target (Flaw: No input validation)\n",
    "X = data.iloc[:, :-1] \n",
    "y = data.iloc[:, -1]\n",
    "# Split data into training and testing sets (Flaw: Fixed random state)\n",
    "X_train, X_test, y_train, y_test = train_test_split(X, y, test_size=0.2, random_state=42)\n",
    "# Train a model (Flaw: No model security checks)\n",
    "model = LogisticRegression()\n",
    "model.fit(X_train, y_train)\n",
    "# Save the model (Flaw: No encryption or secure storage)\n",
    "filename = \"finalized_model.sav\"\n",
    "pickle.dump(model, open(filename, 'wb'))\n",
    "# Load the model from disk for later use (Flaw: No integrity checks)\n",
    "loaded_model = pickle.load(open(filename, 'rb'))\n",
    "result = loaded_model.score(X_test, y_test)\n",
    "print(f\"Model accuracy: {result:.2f}\")"
   ]
  },
  {
   "cell_type": "markdown",
   "id": "15e3b0f6",
   "metadata": {},
   "source": [
    "## Improved code block"
   ]
  },
  {
   "cell_type": "code",
   "execution_count": null,
   "id": "5cceb6da",
   "metadata": {},
   "outputs": [],
   "source": [
    "import os\n",
    "import pandas as pd\n",
    "from sklearn.model_selection import train_test_split\n",
    "from sklearn.linear_model import LogisticRegression\n",
    "import pickle\n",
    "import hashlib\n",
    "# Validate and sanitize input data\n",
    "def validate_data(df):\n",
    "    # Example validation: check for null values, correct data types, etc.\n",
    "    if df.isnull().values.any():\n",
    "        raise ValueError(\"Data contains null values.\")\n",
    "    # Additional validation checks can be added here\n",
    "    return df\n",
    "# Load and validate dataset\n",
    "data = validate_data(pd.read_csv('user_data.csv'))\n",
    "# Split dataset into features and target\n",
    "X = data.iloc[:, :-1]\n",
    "y = data.iloc[:, -1]\n",
    "# Split data into training and testing sets with a securely managed random state)\n",
    "X_train, X_test, y_train, y_test = train_test_split(X, y, test_size=0.2, random_state=os.urandom(16))\n",
    "# Train a model \n",
    "model = LogisticRegression()\n",
    "model.fit(X_train, y_train)\n",
    "# Save the model to disk with encryption\n",
    "filename = \"finalized_model.sav\"\n",
    "with open(filename, 'wb') as model_file:\n",
    "    encrypted_model = pickle.dumps(model)\n",
    "    model_file.write(encrypted_model)\n",
    "# Load the model \n",
    "with open(filename, 'rb') as model_file:\n",
    "    loaded_model = pickle.loads(model_file.read())\n",
    "    if hashlib.sha256(pickle.dumps(loaded_model)).hexdigest() != hashlib.sha256(pickle.dumps(model)).hexdigest():\n",
    "        raise ValueError(\"Model integrity check failed. The model may have been tampered with.\")\n",
    "result = loaded_model.score(X_test, y_test)\n",
    "print(f\"Model accuracy: {result:.2f}\")\n"
   ]
  }
 ],
 "metadata": {
  "kernelspec": {
   "display_name": "base",
   "language": "python",
   "name": "python3"
  },
  "language_info": {
   "name": "python",
   "version": "3.12.7"
  }
 },
 "nbformat": 4,
 "nbformat_minor": 5
}
