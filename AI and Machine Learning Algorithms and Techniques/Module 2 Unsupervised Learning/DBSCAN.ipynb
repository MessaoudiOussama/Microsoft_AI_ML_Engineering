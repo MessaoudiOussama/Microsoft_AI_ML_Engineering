{
 "cells": [
  {
   "cell_type": "code",
   "execution_count": 1,
   "id": "666d55dc",
   "metadata": {},
   "outputs": [],
   "source": [
    "import pandas as pd\n",
    "import matplotlib.pyplot as plt\n",
    "from sklearn.cluster import DBSCAN\n",
    "from sklearn.preprocessing import StandardScaler"
   ]
  },
  {
   "cell_type": "code",
   "execution_count": 2,
   "id": "96ef512b",
   "metadata": {},
   "outputs": [
    {
     "name": "stdout",
     "output_type": "stream",
     "text": [
      "   AnnualIncome  SpendingScore\n",
      "0          15.0             39\n",
      "1          15.5             42\n",
      "2          16.0             45\n",
      "3          16.5             48\n",
      "4          17.0             51\n"
     ]
    }
   ],
   "source": [
    "data = {'AnnualIncome': [\n",
    "        15, 15.5, 16, 16.5, 17, 17.5, 18, 18.5, 19, 19.5, \n",
    "        20, 20.5, 21, 21.5, 22, 22.5, 23, 23.5, 24, 24.5, \n",
    "        25, 25.5, 26, 26.5, 27, 27.5, 28, 28.5, 29, 29.5, \n",
    "        30, 30.5, 31, 31.5, 32, 32.5, 33, 33.5, 34, 34.5, \n",
    "        35,   # Normal points\n",
    "        80, 85, 90  # Outliers\n",
    "    ],\n",
    "    'SpendingScore': [\n",
    "        39, 42, 45, 48, 51, 54, 57, 60, 63, 66,\n",
    "        69, 72, 75, 78, 81, 84, 87, 90, 93, 96,\n",
    "        6, 9, 12, 15, 18, 21, 24, 27, 30, 33,\n",
    "        5, 8, 11, 14, 17, 20, 23, 26, 29, 32,\n",
    "        56,   # Normal points\n",
    "        2, 3, 100  # Outliers\n",
    "    ]}\n",
    "\n",
    "df = pd.DataFrame(data)\n",
    "\n",
    "# Display the first few rows of the dataset\n",
    "print(df.head())"
   ]
  },
  {
   "cell_type": "code",
   "execution_count": 3,
   "id": "e4901575",
   "metadata": {},
   "outputs": [
    {
     "name": "stdout",
     "output_type": "stream",
     "text": [
      "   AnnualIncome  SpendingScore\n",
      "0     -0.869761      -0.135877\n",
      "1     -0.838899      -0.033387\n",
      "2     -0.808036       0.069103\n",
      "3     -0.777174       0.171594\n",
      "4     -0.746311       0.274084\n"
     ]
    }
   ],
   "source": [
    "# Normalize the dataset using StandardScaler\n",
    "scaler = StandardScaler()\n",
    "df_scaled = scaler.fit_transform(df)\n",
    "\n",
    "# Convert the scaled data back into a DataFrame for easier handling\n",
    "df_scaled = pd.DataFrame(df_scaled, columns=['AnnualIncome', 'SpendingScore'])\n",
    "print(df_scaled.head())"
   ]
  },
  {
   "cell_type": "markdown",
   "id": "31176663",
   "metadata": {},
   "source": [
    "DBSCAN requires two important parameters:\n",
    "- eps: The maximum distance between two points to be considered neighbors\n",
    "- min_samples: The minimum numbers of points required to form a dense region (cluster)"
   ]
  },
  {
   "cell_type": "code",
   "execution_count": null,
   "id": "10210891",
   "metadata": {},
   "outputs": [],
   "source": []
  }
 ],
 "metadata": {
  "kernelspec": {
   "display_name": "base",
   "language": "python",
   "name": "python3"
  },
  "language_info": {
   "codemirror_mode": {
    "name": "ipython",
    "version": 3
   },
   "file_extension": ".py",
   "mimetype": "text/x-python",
   "name": "python",
   "nbconvert_exporter": "python",
   "pygments_lexer": "ipython3",
   "version": "3.12.7"
  }
 },
 "nbformat": 4,
 "nbformat_minor": 5
}
